{
 "cells": [
  {
   "cell_type": "code",
   "execution_count": 1,
   "metadata": {},
   "outputs": [],
   "source": [
    "import requests\n",
    "import random\n",
    "import pandas as pd"
   ]
  },
  {
   "cell_type": "code",
   "execution_count": 2,
   "metadata": {},
   "outputs": [],
   "source": [
    "headers = {\n",
    "    \"Access-Control-Allow-Origin\": \"*\",\n",
    "    \"Access-Control-Allow-Methods\": \"GET\",\n",
    "    \"Access-Control-Allow-Headers\": \"Content-Type\",\n",
    "    \"Access-Control-Max-Age\": \"3600\",\n",
    "    \"User-Agent\": \"Mozilla/5.0 (X11; Ubuntu; Linux x86_64; rv:52.0) Gecko/20100101 Firefox/52.0\"\n",
    "}"
   ]
  },
  {
   "cell_type": "code",
   "execution_count": 3,
   "metadata": {},
   "outputs": [],
   "source": [
    "def generate_file_name(params):\n",
    "    bDate = f\"{params['bYear']}{params['bMont']}{params['bDay']}\"\n",
    "    eDate = f\"{params['eYear']}{params['eMont']}{params['eDay']}\"\n",
    "    mag = f\"{params['MAGMin']}_{params['MAGMax']}\"\n",
    "    rand_num = f\"{random.randint(0,99)}_{random.randint(100,999)}\"\n",
    "    return f\"{bDate}_{eDate}_{mag}_{rand_num}.txt\""
   ]
  },
  {
   "cell_type": "code",
   "execution_count": 4,
   "metadata": {},
   "outputs": [],
   "source": [
    "params = {\n",
    "    \"bYear\": \"2020\",\n",
    "    \"bMont\": \"01\",\n",
    "    \"bDay\": \"01\",\n",
    "    \"eYear\": \"2020\",\n",
    "    \"eMont\": \"12\",\n",
    "    \"eDay\": \"08\",\n",
    "    \"EnMin\": \"30.00\",\n",
    "    \"EnMax\": \"47.00\",\n",
    "    \"BoyMin\": \"21.00\",\n",
    "    \"BoyMax\": \"50.00\",\n",
    "    \"MAGMin\": \"0.01\",\n",
    "    \"MAGMax\": \"10.0\",\n",
    "    \"DerMin\": \"0\",\n",
    "    \"DerMax\": \"1000\",\n",
    "    \"Tip\": \"Hepsi\"\n",
    "}\n",
    "\n",
    "params[\"ofName\"] = generate_file_name(params)\n",
    "\n",
    "url = \"http://www.koeri.boun.edu.tr/sismo/zeqdb/submitRecSearchT.asp\"\n",
    "download_url = \"http://koeri.boun.edu.tr/sismo/zeqdb/download.php?download_file={}\""
   ]
  },
  {
   "cell_type": "code",
   "execution_count": 5,
   "metadata": {},
   "outputs": [
    {
     "data": {
      "text/plain": [
       "'http://koeri.boun.edu.tr/sismo/zeqdb/download.php?download_file=20200101_20201208_0.01_10.0_75_234.txt'"
      ]
     },
     "execution_count": 5,
     "metadata": {},
     "output_type": "execute_result"
    }
   ],
   "source": [
    "download_url.format(params[\"ofName\"])"
   ]
  },
  {
   "cell_type": "code",
   "execution_count": null,
   "metadata": {},
   "outputs": [],
   "source": [
    "request = requests.get(url, params=params, headers=headers)"
   ]
  },
  {
   "cell_type": "code",
   "execution_count": null,
   "metadata": {},
   "outputs": [],
   "source": [
    "df = pd.read_csv(download_url.format(params[\"ofName\"]), sep=\"\\t\")"
   ]
  },
  {
   "cell_type": "code",
   "execution_count": null,
   "metadata": {},
   "outputs": [],
   "source": [
    "df"
   ]
  },
  {
   "cell_type": "code",
   "execution_count": null,
   "metadata": {},
   "outputs": [],
   "source": []
  }
 ],
 "metadata": {
  "kernelspec": {
   "display_name": "Python 3",
   "language": "python",
   "name": "python3"
  },
  "language_info": {
   "codemirror_mode": {
    "name": "ipython",
    "version": 3
   },
   "file_extension": ".py",
   "mimetype": "text/x-python",
   "name": "python",
   "nbconvert_exporter": "python",
   "pygments_lexer": "ipython3",
   "version": "3.6.12"
  }
 },
 "nbformat": 4,
 "nbformat_minor": 4
}
